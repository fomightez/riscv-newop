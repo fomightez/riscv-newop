{
 "cells": [
  {
   "cell_type": "code",
   "execution_count": 1,
   "metadata": {},
   "outputs": [],
   "source": [
    "import rvnewop3r1w as rv\n",
    "from glob import glob\n",
    "import matplotlib.pyplot as plt\n",
    "from itertools import accumulate"
   ]
  },
  {
   "cell_type": "code",
   "execution_count": 2,
   "metadata": {},
   "outputs": [
    {
     "name": "stdout",
     "output_type": "stream",
     "text": [
      "aha-mont64,0.9366\n",
      "ud,25.09\n",
      "slre,1.365\n",
      "qrduino,14.6\n",
      "matmult-int,55.72\n",
      "picojpeg,18.8\n",
      "sglib-combined,8.757\n",
      "nsichneu,0.6147\n",
      "coremark,7.241\n",
      "nettle-sha256,24.19\n",
      "huffbench,26.52\n",
      "crc32,38.2\n",
      "nettle-aes,15.57\n",
      "statemate,1.533\n"
     ]
    }
   ],
   "source": [
    "# remove st.hst, edn.hst, minver.hst, cubic.hst, wikisort.hst, nbody.hst\n",
    "floating_point_hsts = list(map(lambda x: \"./embench_hst/\"+x, [\"st.hst\", \"edn.hst\", \"minver.hst\", \"cubic.hst\", \"wikisort.hst\", \"nbody.hst\"]))\n",
    "for FILENAME in [x for x in glob(\"./embench_hst/*.hst\") if x not in floating_point_hsts]:\n",
    "    #print(\"Processing {}...\".format(FILENAME))\n",
    "\n",
    "    prog = rv.Histogram.parse(FILENAME, isa=\"32ICM\")\n",
    "    prog.findBasicBlocks()\n",
    "\n",
    "    prog.addLivenessValuesToGraph()\n",
    "\n",
    "    # total cycles = sum of all the frequencies\n",
    "    total_cycles = sum(\n",
    "        [inst.freq for bb in prog.basicBlocks for inst in bb.bbInstructions()]\n",
    "    )\n",
    "\n",
    "    new_instructions = []\n",
    "\n",
    "    for i, b in enumerate((prog.getSubBlocks())):\n",
    "        graph = b.constructDAG()\n",
    "\n",
    "        # temp will store every permutation of candidate subgraphs\n",
    "        temp = []\n",
    "        for n in rv.analysis.findCandidateSubgraphs(prog, graph):\n",
    "            subtree = rv.analysis.createSubtreeFromNode(graph, n)\n",
    "            root = n\n",
    "\n",
    "            temp.append(rv.Subgraph(subtree, root))\n",
    "\n",
    "        # add candidate subgraph with highest score to new instructions list\n",
    "        current_nodes = set()\n",
    "        temp = sorted(temp, key=lambda sg: sg.score, reverse=True)\n",
    "        while temp:\n",
    "            if any([(n in current_nodes) for n in temp[0].graph.nodes]):\n",
    "                temp.pop(0)\n",
    "            else:\n",
    "                current_nodes.update(temp[0].graph.nodes)\n",
    "                new_instructions.append(temp.pop(0))\n",
    "\n",
    "    new_instructions = sorted(new_instructions, key=lambda sg: sg.score, reverse=True)\n",
    "\n",
    "    inst_dict = {}\n",
    "    for subgraph in new_instructions:\n",
    "        key = rv.analysis.graphToParenString(subgraph.graph)\n",
    "\n",
    "        if key in inst_dict:\n",
    "            inst_dict[key].score += subgraph.score\n",
    "        else:\n",
    "            inst_dict[key] = subgraph\n",
    "\n",
    "    new_instructions = [inst_dict[key] for key in inst_dict]\n",
    "\n",
    "    max_depth = 0\n",
    "    max_mult_depth = 0\n",
    "    for sg in new_instructions:\n",
    "        if sg.containsMultiplyInstruction():\n",
    "            max_mult_depth = max(max_mult_depth, sg.depth)\n",
    "        else:\n",
    "            max_depth = max(max_depth, sg.depth)\n",
    "\n",
    "    saved_cycles = sum([sg.score for sg in new_instructions])\n",
    "    percent_cycles = float(saved_cycles) / total_cycles * 100\n",
    "    #plt.clf()\n",
    "    #plt.plot([x for x in range(len(new_instructions))],list(map(lambda x:x/total_cycles, accumulate([sg.score for sg in new_instructions]))))\n",
    "    #plt.show()\n",
    "    #print(\n",
    "    #    \"\"\"Saved {} cycles out of {} ({:.4}%) with {} new instructions\"\"\".format(\n",
    "    #        saved_cycles, total_cycles, percent_cycles, len(new_instructions)\n",
    "    #    )\n",
    "    #)\n",
    "    #print(\"max depth: {}\\nmax mult depth: {}\".format(max_depth, max_mult_depth))\n",
    "    \n",
    "    print(\"{},{:.4}\".format(FILENAME[len(\"./embench_hst/\"):-4], percent_cycles))\n"
   ]
  },
  {
   "cell_type": "code",
   "execution_count": null,
   "metadata": {},
   "outputs": [],
   "source": []
  }
 ],
 "metadata": {
  "kernelspec": {
   "display_name": "venv",
   "language": "python",
   "name": "venv"
  },
  "language_info": {
   "codemirror_mode": {
    "name": "ipython",
    "version": 3
   },
   "file_extension": ".py",
   "mimetype": "text/x-python",
   "name": "python",
   "nbconvert_exporter": "python",
   "pygments_lexer": "ipython3",
   "version": "3.8.5"
  }
 },
 "nbformat": 4,
 "nbformat_minor": 4
}
