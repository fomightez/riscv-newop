{
 "cells": [
  {
   "cell_type": "code",
   "execution_count": 2,
   "metadata": {},
   "outputs": [],
   "source": [
    "import rvnewop as rv\n",
    "from glob import glob\n",
    "import matplotlib.pyplot as plt\n",
    "from itertools import accumulate"
   ]
  },
  {
   "cell_type": "code",
   "execution_count": 4,
   "metadata": {},
   "outputs": [
    {
     "name": "stdout",
     "output_type": "stream",
     "text": [
      "aha-mont64,0.141,0.1508,0.1418,0.4096,0.04698\n",
      "ud,0.1029,0.2601,0.07719,0.1734,0.01425\n",
      "slre,0.445,0.1425,0.03196,0.05151,0.02787\n",
      "qrduino,0.1205,0.04474,0.03728,0.0904,0.07979\n",
      "matmult-int,0.4152,0.3321,0.2491,0.0008474,0.000349\n",
      "picojpeg,0.03523,0.03631,0.05737,0.04918,0.04098\n",
      "sglib-combined,0.05549,0.249,0.03329,0.2199,0.01142\n",
      "nsichneu,0.3987,0.1595,0.07975,0.07975,0.05354\n",
      "coremark,0.2631,0.05225,0.05037,0.08261,0.08438\n",
      "nettle-sha256,0.01298,0.006627,0.006492,0.01343,0.1558\n",
      "huffbench,0.215,0.08409,0.3933,0.05579,0.05208\n",
      "crc32,0.2093,0.1831,0.1308,0.1047,0.07849\n",
      "nettle-aes,0.4752,0.2376,0.1288,0.007425,0.0297\n",
      "statemate,0.3318,0.1327,0.08401,0.06635,0.06635\n"
     ]
    }
   ],
   "source": [
    "# remove st.hst, edn.hst, minver.hst, cubic.hst, wikisort.hst, nbody.hst\n",
    "floating_point_hsts = list(map(lambda x: \"./embench_hst/\"+x, [\"st.hst\", \"edn.hst\", \"minver.hst\", \"cubic.hst\", \"wikisort.hst\", \"nbody.hst\"]))\n",
    "for FILENAME in [x for x in glob(\"./embench_hst/*.hst\") if x not in floating_point_hsts]:\n",
    "    #print(\"Processing {}...\".format(FILENAME))\n",
    "\n",
    "    prog = rv.Histogram.parse(FILENAME, isa=\"32ICM\")\n",
    "    prog.findBasicBlocks()\n",
    "\n",
    "    prog.addLivenessValuesToGraph()\n",
    "\n",
    "    # total cycles = sum of all the frequencies\n",
    "    total_cycles = sum(\n",
    "        [inst.freq for bb in prog.basicBlocks for inst in bb.bbInstructions()]\n",
    "    )\n",
    "\n",
    "    new_instructions = []\n",
    "\n",
    "    for i, b in enumerate((prog.getSubBlocks())):\n",
    "        graph = b.constructDAG()\n",
    "\n",
    "        # temp will store every permutation of candidate subgraphs\n",
    "        temp = []\n",
    "        for n in rv.analysis.findCandidateSubgraphs(prog, graph):\n",
    "            subtree = rv.analysis.createSubtreeFromNode(graph, n)\n",
    "            root = n\n",
    "\n",
    "            temp.append(rv.Subgraph(subtree, root))\n",
    "\n",
    "        # add candidate subgraph with highest score to new instructions list\n",
    "        current_nodes = set()\n",
    "        temp = sorted(temp, key=lambda sg: sg.score, reverse=True)\n",
    "        while temp:\n",
    "            if any([(n in current_nodes) for n in temp[0].graph.nodes]):\n",
    "                temp.pop(0)\n",
    "            else:\n",
    "                new_instructions.append(temp.pop(0))\n",
    "\n",
    "    new_instructions = sorted(new_instructions, key=lambda sg: sg.score, reverse=True)\n",
    "\n",
    "    inst_dict = {}\n",
    "    for subgraph in new_instructions:\n",
    "        key = rv.analysis.graphToParenString(subgraph.graph)\n",
    "\n",
    "        if key in inst_dict:\n",
    "            inst_dict[key].score += subgraph.score\n",
    "        else:\n",
    "            inst_dict[key] = subgraph\n",
    "\n",
    "    new_instructions = [inst_dict[key] for key in inst_dict]\n",
    "\n",
    "    max_depth = 0\n",
    "    max_mult_depth = 0\n",
    "    for sg in new_instructions:\n",
    "        if sg.containsMultiplyInstruction():\n",
    "            max_mult_depth = max(max_mult_depth, sg.depth)\n",
    "        else:\n",
    "            max_depth = max(max_depth, sg.depth)\n",
    "\n",
    "    saved_cycles = sum([sg.score for sg in new_instructions])\n",
    "    percent_cycles = float(saved_cycles) / total_cycles * 100\n",
    "    #plt.clf()\n",
    "    #plt.plot([x for x in range(len(new_instructions))],list(map(lambda x:x/total_cycles, accumulate([sg.score for sg in new_instructions]))))\n",
    "    #plt.show()\n",
    "    #print(\n",
    "    #    \"\"\"Saved {} cycles out of {} ({:.4}%) with {} new instructions\"\"\".format(\n",
    "    #        saved_cycles, total_cycles, percent_cycles, len(new_instructions)\n",
    "    #    )\n",
    "    #)\n",
    "    #print(\"max depth: {}\\nmax mult depth: {}\".format(max_depth, max_mult_depth))\n",
    "    \n",
    "    print(\"{},{:.4},{:.4},{:.4},{:.4},{:.4}\".format(FILENAME[len(\"./embench_hst/\"):-4], *[float(x.score) / saved_cycles for x in new_instructions[:5]]))\n"
   ]
  }
 ],
 "metadata": {
  "kernelspec": {
   "display_name": "venv",
   "language": "python",
   "name": "venv"
  },
  "language_info": {
   "codemirror_mode": {
    "name": "ipython",
    "version": 3
   },
   "file_extension": ".py",
   "mimetype": "text/x-python",
   "name": "python",
   "nbconvert_exporter": "python",
   "pygments_lexer": "ipython3",
   "version": "3.8.5"
  }
 },
 "nbformat": 4,
 "nbformat_minor": 4
}
