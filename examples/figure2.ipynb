{
 "cells": [
  {
   "cell_type": "code",
   "execution_count": 2,
   "metadata": {},
   "outputs": [],
   "source": [
    "import rvnewop as rv\n",
    "from glob import glob\n",
    "import matplotlib.pyplot as plt\n",
    "from itertools import accumulate"
   ]
  },
  {
   "cell_type": "code",
   "execution_count": 3,
   "metadata": {},
   "outputs": [
    {
     "name": "stdout",
     "output_type": "stream",
     "text": [
      "aha-mont64,0.01163,0.01245,0.0117,0.0338,0.003876\n",
      "ud,0.04087,0.1033,0.03065,0.06885,0.005659\n",
      "slre,0.03372,0.0108,0.002422,0.003903,0.002112\n",
      "qrduino,0.03937,0.01461,0.01218,0.02953,0.02606\n",
      "matmult-int,0.3966,0.3173,0.238,0.0008095,0.0003334\n",
      "picojpeg,0.01623,0.01673,0.02644,0.02266,0.01889\n",
      "sglib-combined,0.01099,0.0493,0.006591,0.04353,0.00226\n",
      "nsichneu,0.003729,0.001492,0.0007458,0.0007458,0.0005007\n",
      "coremark,0.04343,0.008624,0.008314,0.01364,0.01393\n",
      "nettle-sha256,0.00464,0.002368,0.00232,0.004799,0.05568\n",
      "huffbench,0.08494,0.03322,0.1554,0.02204,0.02058\n",
      "crc32,0.2017,0.1765,0.1261,0.1009,0.07566\n",
      "nettle-aes,0.1327,0.06633,0.03596,0.002073,0.008292\n",
      "statemate,0.007563,0.003025,0.001915,0.001513,0.001513\n"
     ]
    }
   ],
   "source": [
    "# remove st.hst, edn.hst, minver.hst, cubic.hst, wikisort.hst, nbody.hst\n",
    "floating_point_hsts = list(map(lambda x: \"./embench_hst/\"+x, [\"st.hst\", \"edn.hst\", \"minver.hst\", \"cubic.hst\", \"wikisort.hst\", \"nbody.hst\"]))\n",
    "for FILENAME in [x for x in glob(\"./embench_hst/*.hst\") if x not in floating_point_hsts]:\n",
    "    #print(\"Processing {}...\".format(FILENAME))\n",
    "\n",
    "    prog = rv.Histogram.parse(FILENAME, isa=\"32ICM\")\n",
    "    prog.findBasicBlocks()\n",
    "\n",
    "    prog.addLivenessValuesToGraph()\n",
    "\n",
    "    # total cycles = sum of all the frequencies\n",
    "    total_cycles = sum(\n",
    "        [inst.freq for bb in prog.basicBlocks for inst in bb.bbInstructions()]\n",
    "    )\n",
    "\n",
    "    new_instructions = []\n",
    "\n",
    "    for i, b in enumerate((prog.getSubBlocks())):\n",
    "        graph = b.constructDAG()\n",
    "\n",
    "        # temp will store every permutation of candidate subgraphs\n",
    "        temp = []\n",
    "        for n in rv.analysis.findCandidateSubgraphs(prog, graph):\n",
    "            subtree = rv.analysis.createSubtreeFromNode(graph, n)\n",
    "            root = n\n",
    "\n",
    "            temp.append(rv.Subgraph(subtree, root))\n",
    "\n",
    "        # add candidate subgraph with highest score to new instructions list\n",
    "        current_nodes = set()\n",
    "        temp = sorted(temp, key=lambda sg: sg.score, reverse=True)\n",
    "        while temp:\n",
    "            if any([(n in current_nodes) for n in temp[0].graph.nodes]):\n",
    "                temp.pop(0)\n",
    "            else:\n",
    "                new_instructions.append(temp.pop(0))\n",
    "\n",
    "    new_instructions = sorted(new_instructions, key=lambda sg: sg.score, reverse=True)\n",
    "\n",
    "    inst_dict = {}\n",
    "    for subgraph in new_instructions:\n",
    "        key = rv.analysis.graphToParenString(subgraph.graph)\n",
    "\n",
    "        if key in inst_dict:\n",
    "            inst_dict[key].score += subgraph.score\n",
    "        else:\n",
    "            inst_dict[key] = subgraph\n",
    "\n",
    "    new_instructions = [inst_dict[key] for key in inst_dict]\n",
    "\n",
    "    max_depth = 0\n",
    "    max_mult_depth = 0\n",
    "    for sg in new_instructions:\n",
    "        if sg.containsMultiplyInstruction():\n",
    "            max_mult_depth = max(max_mult_depth, sg.depth)\n",
    "        else:\n",
    "            max_depth = max(max_depth, sg.depth)\n",
    "\n",
    "    saved_cycles = sum([sg.score for sg in new_instructions])\n",
    "    percent_cycles = float(saved_cycles) / total_cycles * 100\n",
    "    #plt.clf()\n",
    "    #plt.plot([x for x in range(len(new_instructions))],list(map(lambda x:x/total_cycles, accumulate([sg.score for sg in new_instructions]))))\n",
    "    #plt.show()\n",
    "    #print(\n",
    "    #    \"\"\"Saved {} cycles out of {} ({:.4}%) with {} new instructions\"\"\".format(\n",
    "    #        saved_cycles, total_cycles, percent_cycles, len(new_instructions)\n",
    "    #    )\n",
    "    #)\n",
    "    #print(\"max depth: {}\\nmax mult depth: {}\".format(max_depth, max_mult_depth))\n",
    "    \n",
    "    print(\"{},{:.4},{:.4},{:.4},{:.4},{:.4}\".format(FILENAME[len(\"./embench_hst/\"):-4], *[float(x.score) / total_cycles for x in new_instructions[:5]]))\n"
   ]
  }
 ],
 "metadata": {
  "kernelspec": {
   "display_name": "venv",
   "language": "python",
   "name": "venv"
  },
  "language_info": {
   "codemirror_mode": {
    "name": "ipython",
    "version": 3
   },
   "file_extension": ".py",
   "mimetype": "text/x-python",
   "name": "python",
   "nbconvert_exporter": "python",
   "pygments_lexer": "ipython3",
   "version": "3.8.5"
  }
 },
 "nbformat": 4,
 "nbformat_minor": 4
}
