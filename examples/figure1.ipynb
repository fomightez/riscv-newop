{
 "cells": [
  {
   "cell_type": "code",
   "execution_count": 4,
   "metadata": {},
   "outputs": [],
   "source": [
    "import rvnewop as rv\n",
    "from glob import glob\n",
    "import matplotlib.pyplot as plt\n",
    "from itertools import accumulate"
   ]
  },
  {
   "cell_type": "code",
   "execution_count": 7,
   "metadata": {},
   "outputs": [
    {
     "name": "stdout",
     "output_type": "stream",
     "text": [
      "aha-mont64.hst,8.251148518487753\n",
      "ud.hst,39.708143851434144\n",
      "slre.hst,7.577922280439122\n",
      "qrduino.hst,32.6653695537306\n",
      "matmult-int.hst,95.53455792792353\n",
      "picojpeg.hst,46.08454021564705\n",
      "sglib-combined.hst,19.798378132150166\n",
      "nsichneu.hst,0.9352284030912847\n",
      "coremark.hst,16.50554431392234\n",
      "nettle-sha256.hst,35.73962056556335\n",
      "huffbench.hst,39.51233841817241\n",
      "crc32.hst,96.39266377337002\n",
      "nettle-aes.hst,27.918213596838143\n",
      "statemate.hst,2.279626815997443\n"
     ]
    }
   ],
   "source": [
    "# remove st.hst, edn.hst, minver.hst, cubic.hst, wikisort.hst, nbody.hst\n",
    "floating_point_hsts = list(map(lambda x: \"./embench_hst/\"+x, [\"st.hst\", \"edn.hst\", \"minver.hst\", \"cubic.hst\", \"wikisort.hst\", \"nbody.hst\"]))\n",
    "for FILENAME in [x for x in glob(\"./embench_hst/*.hst\") if x not in floating_point_hsts]:\n",
    "    #print(\"Processing {}...\".format(FILENAME))\n",
    "\n",
    "    prog = rv.Histogram.parse(FILENAME, isa=\"32ICM\")\n",
    "    prog.findBasicBlocks()\n",
    "\n",
    "    prog.addLivenessValuesToGraph()\n",
    "\n",
    "    # total cycles = sum of all the frequencies\n",
    "    total_cycles = sum(\n",
    "        [inst.freq for bb in prog.basicBlocks for inst in bb.bbInstructions()]\n",
    "    )\n",
    "\n",
    "    new_instructions = []\n",
    "\n",
    "    for i, b in enumerate((prog.getSubBlocks())):\n",
    "        graph = b.constructDAG()\n",
    "\n",
    "        # temp will store every permutation of candidate subgraphs\n",
    "        temp = []\n",
    "        for n in rv.analysis.findCandidateSubgraphs(prog, graph):\n",
    "            subtree = rv.analysis.createSubtreeFromNode(graph, n)\n",
    "            root = n\n",
    "\n",
    "            temp.append(rv.Subgraph(subtree, root))\n",
    "\n",
    "        # add candidate subgraph with highest score to new instructions list\n",
    "        current_nodes = set()\n",
    "        temp = sorted(temp, key=lambda sg: sg.score, reverse=True)\n",
    "        while temp:\n",
    "            if any([(n in current_nodes) for n in temp[0].graph.nodes]):\n",
    "                temp.pop(0)\n",
    "            else:\n",
    "                new_instructions.append(temp.pop(0))\n",
    "\n",
    "    new_instructions = sorted(new_instructions, key=lambda sg: sg.score, reverse=True)\n",
    "\n",
    "    inst_dict = {}\n",
    "    for subgraph in new_instructions:\n",
    "        key = rv.analysis.graphToParenString(subgraph.graph)\n",
    "\n",
    "        if key in inst_dict:\n",
    "            inst_dict[key].score += subgraph.score\n",
    "        else:\n",
    "            inst_dict[key] = subgraph\n",
    "\n",
    "    new_instructions = [inst_dict[key] for key in inst_dict]\n",
    "\n",
    "    max_depth = 0\n",
    "    max_mult_depth = 0\n",
    "    for sg in new_instructions:\n",
    "        if sg.containsMultiplyInstruction():\n",
    "            max_mult_depth = max(max_mult_depth, sg.depth)\n",
    "        else:\n",
    "            max_depth = max(max_depth, sg.depth)\n",
    "\n",
    "    saved_cycles = sum([sg.score for sg in new_instructions])\n",
    "    percent_cycles = float(saved_cycles) / total_cycles * 100\n",
    "    #plt.clf()\n",
    "    #plt.plot([x for x in range(len(new_instructions))],list(map(lambda x:x/total_cycles, accumulate([sg.score for sg in new_instructions]))))\n",
    "    #plt.show()\n",
    "    #print(\n",
    "    #    \"\"\"Saved {} cycles out of {} ({:.4}%) with {} new instructions\"\"\".format(\n",
    "    #        saved_cycles, total_cycles, percent_cycles, len(new_instructions)\n",
    "    #    )\n",
    "    #)\n",
    "    #print(\"max depth: {}\\nmax mult depth: {}\".format(max_depth, max_mult_depth))\n",
    "    \n",
    "    print(\"{},{}\".format(FILENAME[len(\"./embench_hst/\"):], percent_cycles))\n"
   ]
  },
  {
   "cell_type": "code",
   "execution_count": null,
   "metadata": {},
   "outputs": [],
   "source": []
  }
 ],
 "metadata": {
  "kernelspec": {
   "display_name": "venv",
   "language": "python",
   "name": "venv"
  },
  "language_info": {
   "codemirror_mode": {
    "name": "ipython",
    "version": 3
   },
   "file_extension": ".py",
   "mimetype": "text/x-python",
   "name": "python",
   "nbconvert_exporter": "python",
   "pygments_lexer": "ipython3",
   "version": "3.8.5"
  }
 },
 "nbformat": 4,
 "nbformat_minor": 4
}
